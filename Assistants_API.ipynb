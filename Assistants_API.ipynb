{
 "cells": [
  {
   "cell_type": "code",
   "execution_count": 1,
   "metadata": {},
   "outputs": [],
   "source": [
    "import os\n",
    "import openai"
   ]
  },
  {
   "cell_type": "code",
   "execution_count": 2,
   "metadata": {},
   "outputs": [],
   "source": [
    "from dotenv import load_dotenv, find_dotenv\n",
    "_ = load_dotenv(find_dotenv())"
   ]
  },
  {
   "cell_type": "code",
   "execution_count": 4,
   "metadata": {},
   "outputs": [],
   "source": [
    "os.environ[\"OPENAI_API_KEY\"] = os.environ[\"OPENAI_API_KEY\"]"
   ]
  },
  {
   "cell_type": "code",
   "execution_count": 5,
   "metadata": {},
   "outputs": [],
   "source": [
    "assistant = openai.beta.assistants.create(\n",
    "    name = \"Math Tutor\",\n",
    "    instructions = \"You are a professional maths teacher. Write and run code for the provided math questions.\",\n",
    "    tools = [{\"type\" : \"code_interpreter\"}],\n",
    "    model = \"gpt-3.5-turbo-1106\"\n",
    ")"
   ]
  },
  {
   "cell_type": "code",
   "execution_count": 6,
   "metadata": {},
   "outputs": [],
   "source": [
    "thread = openai.beta.threads.create()"
   ]
  },
  {
   "cell_type": "code",
   "execution_count": 7,
   "metadata": {},
   "outputs": [],
   "source": [
    "message = openai.beta.threads.messages.create(\n",
    "    thread_id = thread.id,\n",
    "    role = \"user\",\n",
    "    content = \"I need to solve the equation '11x + 50 = 83'. Can you help me?\"\n",
    ")"
   ]
  },
  {
   "cell_type": "code",
   "execution_count": 8,
   "metadata": {},
   "outputs": [
    {
     "name": "stdout",
     "output_type": "stream",
     "text": [
      "ThreadMessage(id='msg_UFkvgpLQeeR5HYltyy7UWy9L', assistant_id=None, content=[MessageContentText(text=Text(annotations=[], value=\"I need to solve the equation '11x + 50 = 83'. Can you help me?\"), type='text')], created_at=1699411984, file_ids=[], metadata={}, object='thread.message', role='user', run_id=None, thread_id='thread_lk5c4mzRC7BOig6izstsh7u9')\n"
     ]
    }
   ],
   "source": [
    "print(message)"
   ]
  },
  {
   "cell_type": "code",
   "execution_count": 9,
   "metadata": {},
   "outputs": [],
   "source": [
    "run = openai.beta.threads.runs.create(\n",
    "    thread_id = thread.id,\n",
    "    assistant_id = assistant.id,\n",
    "    instructions = \"Please address the useras Jane Doe. The user has a premium account.\"\n",
    ")"
   ]
  },
  {
   "cell_type": "code",
   "execution_count": 10,
   "metadata": {},
   "outputs": [
    {
     "name": "stdout",
     "output_type": "stream",
     "text": [
      "Run(id='run_vpBLvrxEye8zw0oBEJqGyiDM', assistant_id='asst_eFzZFqHpKOsN2rqpzC9bat8W', cancelled_at=None, completed_at=None, created_at=1699411988, expires_at=1699412588, failed_at=None, file_ids=[], instructions='Please address the useras Jane Doe. The user has a premium account.', last_error=None, metadata={}, model='gpt-3.5-turbo-1106', object='thread.run', required_action=None, started_at=None, status='queued', thread_id='thread_lk5c4mzRC7BOig6izstsh7u9', tools=[ToolAssistantToolsCode(type='code_interpreter')])\n"
     ]
    }
   ],
   "source": [
    "print(run)"
   ]
  },
  {
   "cell_type": "code",
   "execution_count": 11,
   "metadata": {},
   "outputs": [],
   "source": [
    "run = openai.beta.threads.runs.retrieve(\n",
    "    thread_id = thread.id,\n",
    "    run_id = run.id\n",
    ")"
   ]
  },
  {
   "cell_type": "code",
   "execution_count": 12,
   "metadata": {},
   "outputs": [
    {
     "name": "stdout",
     "output_type": "stream",
     "text": [
      "Run(id='run_vpBLvrxEye8zw0oBEJqGyiDM', assistant_id='asst_eFzZFqHpKOsN2rqpzC9bat8W', cancelled_at=None, completed_at=None, created_at=1699411988, expires_at=1699412588, failed_at=None, file_ids=[], instructions='Please address the useras Jane Doe. The user has a premium account.', last_error=None, metadata={}, model='gpt-3.5-turbo-1106', object='thread.run', required_action=None, started_at=1699411988, status='in_progress', thread_id='thread_lk5c4mzRC7BOig6izstsh7u9', tools=[ToolAssistantToolsCode(type='code_interpreter')])\n"
     ]
    }
   ],
   "source": [
    "print(run)"
   ]
  },
  {
   "cell_type": "code",
   "execution_count": 13,
   "metadata": {},
   "outputs": [],
   "source": [
    "messages = openai.beta.threads.messages.list(\n",
    "    thread_id = thread.id\n",
    ")"
   ]
  },
  {
   "cell_type": "code",
   "execution_count": 14,
   "metadata": {},
   "outputs": [
    {
     "name": "stdout",
     "output_type": "stream",
     "text": [
      "SyncCursorPage[ThreadMessage](data=[ThreadMessage(id='msg_XhovQR9PPjL2V6o9qShKXzcd', assistant_id='asst_eFzZFqHpKOsN2rqpzC9bat8W', content=[MessageContentText(text=Text(annotations=[], value='The solution to the equation 11x + 50 = 83 is x = 3.'), type='text')], created_at=1699411991, file_ids=[], metadata={}, object='thread.message', role='assistant', run_id='run_vpBLvrxEye8zw0oBEJqGyiDM', thread_id='thread_lk5c4mzRC7BOig6izstsh7u9'), ThreadMessage(id='msg_UFkvgpLQeeR5HYltyy7UWy9L', assistant_id=None, content=[MessageContentText(text=Text(annotations=[], value=\"I need to solve the equation '11x + 50 = 83'. Can you help me?\"), type='text')], created_at=1699411984, file_ids=[], metadata={}, object='thread.message', role='user', run_id=None, thread_id='thread_lk5c4mzRC7BOig6izstsh7u9')], object='list', first_id='msg_XhovQR9PPjL2V6o9qShKXzcd', last_id='msg_UFkvgpLQeeR5HYltyy7UWy9L', has_more=False)\n"
     ]
    }
   ],
   "source": [
    "print(messages)"
   ]
  },
  {
   "cell_type": "code",
   "execution_count": 15,
   "metadata": {},
   "outputs": [
    {
     "name": "stdout",
     "output_type": "stream",
     "text": [
      "<class 'openai.pagination.SyncCursorPage[ThreadMessage]'>\n"
     ]
    }
   ],
   "source": [
    "print(type(messages))"
   ]
  },
  {
   "cell_type": "code",
   "execution_count": 17,
   "metadata": {},
   "outputs": [
    {
     "name": "stdout",
     "output_type": "stream",
     "text": [
      "The solution to the equation 11x + 50 = 83 is x = 3.\n"
     ]
    }
   ],
   "source": [
    "for thread_message in messages.data:\n",
    "    for message_content in thread_message.content:\n",
    "        if message_content.type == 'text':\n",
    "            print(message_content.text.value)\n",
    "    break\n",
    "    "
   ]
  },
  {
   "cell_type": "code",
   "execution_count": null,
   "metadata": {},
   "outputs": [],
   "source": []
  }
 ],
 "metadata": {
  "kernelspec": {
   "display_name": "Python 3",
   "language": "python",
   "name": "python3"
  },
  "language_info": {
   "codemirror_mode": {
    "name": "ipython",
    "version": 3
   },
   "file_extension": ".py",
   "mimetype": "text/x-python",
   "name": "python",
   "nbconvert_exporter": "python",
   "pygments_lexer": "ipython3",
   "version": "3.11.5"
  }
 },
 "nbformat": 4,
 "nbformat_minor": 2
}
